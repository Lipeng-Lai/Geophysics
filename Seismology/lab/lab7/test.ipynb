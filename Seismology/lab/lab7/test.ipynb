{
 "cells": [
  {
   "cell_type": "code",
   "execution_count": 6,
   "metadata": {},
   "outputs": [
    {
     "name": "stdout",
     "output_type": "stream",
     "text": [
      "phi:  330 delta:  65 lambda:  70\n"
     ]
    }
   ],
   "source": [
    "import numpy as np\n",
    "\n",
    "# parameters\n",
    "phi = 330\n",
    "delta = 65\n",
    "lama = 70\n",
    "\n",
    "print(\"phi: \", phi, \"delta: \", delta, \"lambda: \", lama)\n",
    "\n",
    "# deg -> rad\n",
    "phi = np.deg2rad(phi)\n",
    "delta = np.deg2rad(delta)\n",
    "lama = np.deg2rad(lama)\n",
    "\n",
    "# calculate vec{n}\n",
    "def fault_n(strike=phi, dip=delta, rake=lama):\n",
    "    n = np.zeros(3)\n",
    "    n[0] = - np.sin(delta) * np.sin(phi)\n",
    "    n[1] = - np.sin(delta) * np.cos(phi)\n",
    "    n[2] = np.cos(delta)\n",
    "    return n\n",
    "\n",
    "# calculate vec{d}\n",
    "def fault_d(strike=phi, dip=delta, rake=lama):\n",
    "    d = np.zeros(3)\n",
    "    d[0] = np.cos(lama) * np.cos(phi) + np.sin(lama) * np.cos(delta) * np.sin(phi)\n",
    "    d[1] = -np.cos(lama) * np.sin(phi) + np.sin(lama) * np.cos(delta) * np.cos(phi)\n",
    "    d[2] = np.sin(lama) * np.sin(delta)\n",
    "    return d\n",
    "\n",
    "# Maximum principal compressive stress axis P\n",
    "def fault_p(strike=phi, dip=delta, rake=lama):\n",
    "    n = fault_n(strike, dip, rake)\n",
    "    d = fault_d(strike, dip, rake)\n",
    "    return n - d\n",
    "\n",
    "# Minimum principal compressive stress axis T\n",
    "def fault_t(strike=phi, dip=delta, rake=lama):\n",
    "    n = fault_n(strike, dip, rake)\n",
    "    d = fault_d(strike, dip, rake)\n",
    "    return n + d\n",
    "\n",
    "# zero axis\n",
    "def fault_b(strike=phi, dip=delta, rake=lama):\n",
    "    n = fault_n(strike, dip, rake)\n",
    "    d = fault_d(strike, dip, rake)\n",
    "    return np.cross(n, d)\n"
   ]
  },
  {
   "cell_type": "markdown",
   "metadata": {},
   "source": [
    "(a) 写一个子程序利用给定的三个断层角度计算断层的法向量和滑动矢量。\n",
    "\n",
    "(b) 利用该子程序计算问题2中震源机制的$\\vec{n}$和$\\vec{d}$与立体图获得的结果进行对比。\n",
    "\n",
    "(c) 测试$\\vec{n}$和 $\\vec{d}$是否正交。"
   ]
  },
  {
   "cell_type": "code",
   "execution_count": 17,
   "metadata": {},
   "outputs": [
    {
     "name": "stdout",
     "output_type": "stream",
     "text": [
      "n:  [ 0.45315389 -0.78488557  0.42261826]\n",
      "d:  [0.0976325  0.51493583 0.85165074]\n",
      "n与d点积为0, 故n与d正交\n"
     ]
    }
   ],
   "source": [
    "# (a)\n",
    "print(\"n: \", fault_n(phi, delta, lama))\n",
    "print(\"d: \", fault_d(phi, delta, lama))\n",
    "\n",
    "# (c)\n",
    "res = np.dot(fault_n(phi, delta, lama), fault_d(phi, delta, lama))\n",
    "if res < 1e-6:\n",
    "    print(\"n与d点积为0, 故n与d正交\")"
   ]
  },
  {
   "cell_type": "markdown",
   "metadata": {},
   "source": [
    "(a) 利用C-1的结果，写一个子程序计算$\\vec{P}$和$\\vec{T}$向量。\n",
    "\n",
    "(b) 利用该子程序计算问题2中震源机制的$\\vec{P}$和$\\vec{T}$轴。将结果与立体图获得的结果进行对比"
   ]
  },
  {
   "cell_type": "code",
   "execution_count": 21,
   "metadata": {},
   "outputs": [
    {
     "name": "stdout",
     "output_type": "stream",
     "text": [
      "P:  [ 0.35552139 -1.2998214  -0.42903248]\n",
      "T:  [ 0.5507864  -0.26994973  1.274269  ]\n"
     ]
    }
   ],
   "source": [
    "print(\"P: \", fault_p(phi, delta, lama))\n",
    "print(\"T: \", fault_t(phi, delta, lama))"
   ]
  },
  {
   "cell_type": "code",
   "execution_count": null,
   "metadata": {},
   "outputs": [],
   "source": []
  }
 ],
 "metadata": {
  "kernelspec": {
   "display_name": "base",
   "language": "python",
   "name": "python3"
  },
  "language_info": {
   "codemirror_mode": {
    "name": "ipython",
    "version": 3
   },
   "file_extension": ".py",
   "mimetype": "text/x-python",
   "name": "python",
   "nbconvert_exporter": "python",
   "pygments_lexer": "ipython3",
   "version": "3.10.12"
  }
 },
 "nbformat": 4,
 "nbformat_minor": 2
}
