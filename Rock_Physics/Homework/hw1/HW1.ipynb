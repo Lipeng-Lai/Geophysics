{
 "cells": [
  {
   "cell_type": "markdown",
   "metadata": {},
   "source": [
    "## Wood's方程"
   ]
  },
  {
   "cell_type": "code",
   "execution_count": 19,
   "metadata": {},
   "outputs": [
    {
     "name": "stdout",
     "output_type": "stream",
     "text": [
      "K_quartz:  95.66729258646934 GPa\n",
      "K:  90.67020547847233 GPa\n",
      "rho:  2.646 g/cm^3\n",
      "wood's P wave Velocity:  5.853793256898434 km/s\n"
     ]
    }
   ],
   "source": [
    "import math\n",
    "\n",
    "# Quartz\n",
    "phi_quartz = 0.8\n",
    "vp_quartz = 6008.4\n",
    "rho_quartz = 2.65\n",
    "mu_quartz = 44\n",
    "\n",
    "# Feldspar\n",
    "phi_Feldspar = 0.2\n",
    "K_Feldspar = 75\n",
    "rho_Feldspar = 2.63\n",
    "mu_Feldspar = 26\n",
    "\n",
    "# Calculate K_quartz\n",
    "vs_quartz = math.sqrt(mu_quartz / rho_quartz)\n",
    "K_quartz = rho_quartz * vp_quartz**2 - 4/3 * rho_quartz * vs_quartz\n",
    "\n",
    "K_quartz = K_quartz / 10**6\n",
    "print(\"K_quartz: \", K_quartz, \"GPa\")\n",
    "\n",
    "K = []\n",
    "K.append(K_quartz)\n",
    "K.append(K_Feldspar)\n",
    "\n",
    "phi = []\n",
    "phi.append(phi_quartz)\n",
    "phi.append(phi_Feldspar)\n",
    "\n",
    "# Calculate average K\n",
    "res_K = 0\n",
    "for ki, phii in zip(K, phi):\n",
    "    res_K = res_K + phii / ki\n",
    "\n",
    "res_K = 1 / res_K\n",
    "\n",
    "\n",
    "print(\"K: \", res_K, \"GPa\")\n",
    "\n",
    "# Calculate average rho \n",
    "Rho = []\n",
    "Rho.append(rho_quartz)\n",
    "Rho.append(rho_Feldspar)\n",
    "\n",
    "rho = 0\n",
    "for phii, rhoi in zip(phi, Rho):\n",
    "    rho = rho + phii * rhoi\n",
    "\n",
    "print(\"rho: \", rho, \"g/cm^3\")\n",
    "\n",
    "# Calculate wood's Velocity\n",
    "Velocity_wood = math.sqrt(res_K / rho)\n",
    "\n",
    "print(\"wood's P wave Velocity: \", Velocity_wood, \"km/s\")"
   ]
  },
  {
   "cell_type": "markdown",
   "metadata": {},
   "source": [
    "## Wyllie时间平均方程"
   ]
  },
  {
   "cell_type": "code",
   "execution_count": 21,
   "metadata": {},
   "outputs": [
    {
     "name": "stdout",
     "output_type": "stream",
     "text": [
      "V_rock:  3.1159950841517485\n"
     ]
    }
   ],
   "source": [
    "phi = 0.3\n",
    "V_ma = 5.8537\n",
    "V_fl = 1.49\n",
    "\n",
    "V_rock = (1 - phi) / V_ma + phi / V_fl\n",
    "V_rock = 1 / V_rock\n",
    "\n",
    "print(\"V_rock: \", V_rock)"
   ]
  },
  {
   "cell_type": "code",
   "execution_count": 23,
   "metadata": {},
   "outputs": [
    {
     "name": "stdout",
     "output_type": "stream",
     "text": [
      "average rho:  2.1521999999999997\n"
     ]
    }
   ],
   "source": [
    "phi = 0.3\n",
    "varphi1 = 0.8\n",
    "varphi2 = 0.2\n",
    "rho_water = 1\n",
    "\n",
    "rho = (1 - phi) * (varphi1 * rho_quartz + varphi2 * rho_Feldspar) + phi * rho_water\n",
    "print(\"average rho: \", rho)\n",
    "\n",
    "# Solve for V_P\n",
    "vp = (rho / 0.31)**(1/0.25)\n",
    "\n",
    "print(\"V_P:\", vp)"
   ]
  },
  {
   "cell_type": "code",
   "execution_count": null,
   "metadata": {},
   "outputs": [],
   "source": []
  }
 ],
 "metadata": {
  "kernelspec": {
   "display_name": "base",
   "language": "python",
   "name": "python3"
  },
  "language_info": {
   "codemirror_mode": {
    "name": "ipython",
    "version": 3
   },
   "file_extension": ".py",
   "mimetype": "text/x-python",
   "name": "python",
   "nbconvert_exporter": "python",
   "pygments_lexer": "ipython3",
   "version": "3.10.12"
  }
 },
 "nbformat": 4,
 "nbformat_minor": 2
}
