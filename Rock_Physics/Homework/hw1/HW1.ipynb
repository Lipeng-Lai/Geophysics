{
 "cells": [
  {
   "cell_type": "markdown",
   "metadata": {},
   "source": [
    "## Wood's方程"
   ]
  },
  {
   "cell_type": "code",
   "execution_count": 31,
   "metadata": {},
   "outputs": [
    {
     "name": "stdout",
     "output_type": "stream",
     "text": [
      "K_water:  2.2201 GPa\n",
      "vs_quartz:  4.074772826171499 km/s\n",
      "K_quartz:  95.66729258646934 GPa\n",
      "K:  7.0003825987688355 GPa\n",
      "rho:  1.8521999999999998 g/cm^3\n",
      "wood's P wave Velocity:  1.9440926053242045 km/s\n"
     ]
    }
   ],
   "source": [
    "import math\n",
    "\n",
    "# water\n",
    "vp_water = 1490\n",
    "rho_water = 1\n",
    "phi_water = 0.3\n",
    "\n",
    "# Quartz\n",
    "phi_quartz = 0.8 * (1 - phi_water)\n",
    "vp_quartz = 6008.4\n",
    "rho_quartz = 2.65\n",
    "mu_quartz = 44\n",
    "\n",
    "# Feldspar\n",
    "phi_Feldspar = 0.2 * (1 - phi_water)\n",
    "K_Feldspar = 75\n",
    "rho_Feldspar = 2.63\n",
    "mu_Feldspar = 26\n",
    "\n",
    "\n",
    "# Calcalate K_water\n",
    "K_water = rho_water * vp_water**2\n",
    "K_water = K_water / 10**6\n",
    "print(\"K_water: \", K_water, \"GPa\")\n",
    "\n",
    "# Calculate K_quartz\n",
    "vs_quartz = math.sqrt(mu_quartz / rho_quartz)\n",
    "print(\"vs_quartz: \", vs_quartz, \"km/s\")\n",
    "K_quartz = rho_quartz * vp_quartz**2 - 4/3 * rho_quartz * vs_quartz\n",
    "\n",
    "K_quartz = K_quartz / 10**6\n",
    "print(\"K_quartz: \", K_quartz, \"GPa\")\n",
    "\n",
    "K = []\n",
    "K.append(K_quartz)\n",
    "K.append(K_Feldspar)\n",
    "K.append(K_water)\n",
    "\n",
    "phi = []\n",
    "phi.append(phi_quartz)\n",
    "phi.append(phi_Feldspar)\n",
    "phi.append(phi_water)\n",
    "\n",
    "# Calculate average K\n",
    "res_K = 0\n",
    "for ki, phii in zip(K, phi):\n",
    "    res_K = res_K + phii / ki\n",
    "\n",
    "res_K = 1 / res_K\n",
    "\n",
    "\n",
    "print(\"K: \", res_K, \"GPa\")\n",
    "\n",
    "# Calculate average rho \n",
    "Rho = []\n",
    "Rho.append(rho_quartz)\n",
    "Rho.append(rho_Feldspar)\n",
    "\n",
    "rho = 0\n",
    "for phii, rhoi in zip(phi, Rho):\n",
    "    rho = rho + phii * rhoi\n",
    "\n",
    "print(\"rho: \", rho, \"g/cm^3\")\n",
    "\n",
    "# Calculate wood's Velocity\n",
    "Velocity_wood = math.sqrt(res_K / rho)\n",
    "\n",
    "print(\"wood's P wave Velocity: \", Velocity_wood, \"km/s\")"
   ]
  },
  {
   "cell_type": "markdown",
   "metadata": {},
   "source": [
    "## Wyllie时间平均方程"
   ]
  },
  {
   "cell_type": "code",
   "execution_count": 32,
   "metadata": {},
   "outputs": [
    {
     "name": "stdout",
     "output_type": "stream",
     "text": [
      "vp_Feldspar:  6.457426139317443 km/s\n",
      "vp_quartz:  6.0084 km/s\n",
      "V_ma:  6.098205227863489 km/s\n",
      "V_rock:  3.1632540847908897 km/s\n"
     ]
    }
   ],
   "source": [
    "vp_Feldspar = math.sqrt((K_Feldspar + 4/3 * mu_Feldspar) / rho_Feldspar)\n",
    "print(\"vp_Feldspar: \", vp_Feldspar, \"km/s\")\n",
    "vp_quartz = vp_quartz / 1000\n",
    "print(\"vp_quartz: \", vp_quartz, \"km/s\")\n",
    "\n",
    "phi = 0.3\n",
    "V_ma = 0.8 * vp_quartz + 0.2 * vp_Feldspar\n",
    "\n",
    "print(\"V_ma: \", V_ma, \"km/s\")\n",
    "V_fl = 1.49\n",
    "\n",
    "V_rock = (1 - phi) / V_ma + phi / V_fl\n",
    "V_rock = 1 / V_rock\n",
    "\n",
    "print(\"V_rock: \", V_rock, \"km/s\")"
   ]
  },
  {
   "cell_type": "code",
   "execution_count": 34,
   "metadata": {},
   "outputs": [
    {
     "name": "stdout",
     "output_type": "stream",
     "text": [
      "average rho:  2.1521999999999997 g/cm^3\n",
      "V_P: 2.323184668133828 km/s\n"
     ]
    }
   ],
   "source": [
    "phi = 0.3\n",
    "varphi1 = 0.8\n",
    "varphi2 = 0.2\n",
    "rho_water = 1\n",
    "\n",
    "rho = (1 - phi) * (varphi1 * rho_quartz + varphi2 * rho_Feldspar) + phi * rho_water\n",
    "print(\"average rho: \", rho, \"g/cm^3\")\n",
    "\n",
    "# Solve for V_P\n",
    "vp = (rho / 0.31)**(1/0.25)\n",
    "\n",
    "vp = vp / 1000\n",
    "\n",
    "print(\"V_P:\", vp, \"km/s\")"
   ]
  },
  {
   "cell_type": "code",
   "execution_count": 36,
   "metadata": {},
   "outputs": [
    {
     "name": "stdout",
     "output_type": "stream",
     "text": [
      "V_P:  1.6417215104007534 km/s\n"
     ]
    }
   ],
   "source": [
    "phi = 0.4\n",
    "\n",
    "sum_K = (1 - phi) / K_quartz + phi / K_water\n",
    "sum_K = 1 / sum_K\n",
    "\n",
    "rho = (1 - phi) * rho_quartz + phi * rho_water\n",
    "\n",
    "V = math.sqrt(sum_K / rho)\n",
    "\n",
    "print(\"V_P: \", V, \"km/s\")"
   ]
  },
  {
   "cell_type": "code",
   "execution_count": 56,
   "metadata": {},
   "outputs": [
    {
     "name": "stdout",
     "output_type": "stream",
     "text": [
      "rho:  2.6559999999999997\n",
      "Kv:  40.980000000000004\n",
      "muv:  42.800000000000004\n",
      "Vp_voigt:  6.075784775859847\n",
      "Vs_voigt:  4.014281732928732\n",
      "Kr:  39.02224663553969\n",
      "mur:  42.40963855421687\n",
      "Vp_reuss:  5.998507324821699\n",
      "Vs_reuss:  3.9959334823559036\n"
     ]
    }
   ],
   "source": [
    "phi = 0.1\n",
    "\n",
    "# shiying\n",
    "K_shiying = 37\n",
    "mu_shiying = 44\n",
    "rho_shiying = 2650 / 1000\n",
    "\n",
    "# fangjieshi\n",
    "K_fang = 76.8\n",
    "mu_fang = 32\n",
    "rho_fang = 2710 / 1000\n",
    "\n",
    "# rho\n",
    "rho = (1 - phi) * rho_shiying + phi * rho_fang\n",
    "print(\"rho: \", rho)\n",
    "\n",
    "# Voigt\n",
    "Kv = K_shiying * (1 - phi) + K_fang * phi\n",
    "print(\"Kv: \", Kv)\n",
    "\n",
    "muv = mu_shiying * (1 - phi) + mu_fang * phi\n",
    "print(\"muv: \", muv)\n",
    "\n",
    "Vp_voigt = math.sqrt((Kv + 4/3*muv) / rho)\n",
    "print(\"Vp_voigt: \", Vp_voigt)\n",
    "\n",
    "Vs_voigt = math.sqrt(muv / rho)\n",
    "print(\"Vs_voigt: \", Vs_voigt)\n",
    "\n",
    "# Reuss\n",
    "Kr = (1 - phi) / K_shiying + phi / K_fang\n",
    "Kr = 1 / Kr\n",
    "print(\"Kr: \", Kr)\n",
    "\n",
    "mur = (1 - phi) / mu_shiying + phi / mu_fang\n",
    "mur = 1 / mur\n",
    "print(\"mur: \", mur)\n",
    "\n",
    "Vp_reuss = math.sqrt((Kr + 4/3*mur) / rho)\n",
    "print(\"Vp_reuss: \", Vp_reuss)\n",
    "\n",
    "Vs_reuss = math.sqrt(mur / rho)\n",
    "print(\"Vs_reuss: \", Vs_reuss)"
   ]
  },
  {
   "cell_type": "code",
   "execution_count": 60,
   "metadata": {},
   "outputs": [
    {
     "name": "stdout",
     "output_type": "stream",
     "text": [
      "Hashin-Shtrikman上界：\n",
      "体积模量 (K_bnd) = 72.68283784563874 GPa\n",
      "剪切模量 (mu_bnd) = 33.17915423758554 GPa\n",
      "\n",
      "Hashin-Shtrikman下界：\n",
      "体积模量 (K_bnd) = 40.79062724157169 GPa\n",
      "剪切模量 (mu_bnd) = 33.177605781272455 GPa\n",
      "Vp_up:  6.634887205054997\n",
      "Vs_up:  3.5344237783370116\n"
     ]
    }
   ],
   "source": [
    "def hashin_shtrikman_upper_bound(phi, K1, mu1, K2, mu2):\n",
    "    K_bnd = K1 + phi / (1 / (K2 - K1) + phi / (K1 + 4/3 * mu1))\n",
    "    mu_bnd = mu1 + phi / (1 / (mu2 - mu1) + (2 * phi * (K1 + 2 * mu1)) / (5 * mu1 * (K1 + 4/3 * mu1)))\n",
    "    return K_bnd, mu_bnd\n",
    "\n",
    "def hashin_shtrikman_lower_bound(phi, K1, mu1, K2, mu2):\n",
    "    K_bnd = K1 + phi / (1 / (K2 - K1) + phi / (K1 + 4/3 * mu1))\n",
    "    mu_bnd = mu1 + phi / (1 / (mu2 - mu1) + (2 * phi * (K1 + 2 * mu1)) / (5 * mu1 * (K1 + 4/3 * mu1)))\n",
    "    return K_bnd, mu_bnd\n",
    "\n",
    "\n",
    "K1_rock = 76.8e9  # 方解石体积模量，Pa\n",
    "mu1_rock = 32e9   # 方解石剪切模量，Pa\n",
    "rho_rock = 2710   # 方解石密度，kg/m^3\n",
    "\n",
    "K1_quartz = 37e9  # 石英体积模量，Pa\n",
    "mu1_quartz = 44e9 # 石英剪切模量，Pa\n",
    "rho_quartz = 2650 # 石英密度，kg/m^3\n",
    "\n",
    "# 方解石含量为10%\n",
    "phi = 0.1\n",
    "\n",
    "# 计算Hashin-Shtrikman上、下界\n",
    "K_upper, mu_upper = hashin_shtrikman_upper_bound(phi, K1_rock, mu1_rock, K1_quartz, mu1_quartz)\n",
    "# K_lower, mu_lower = hashin_shtrikman_lower_bound(phi, K1_rock, mu1_rock, K1_quartz, mu1_quartz)\n",
    "K_lower, mu_lower = hashin_shtrikman_lower_bound(phi, K1_quartz, mu1_rock, K1_rock, mu1_quartz)\n",
    "\n",
    "print(\"Hashin-Shtrikman上界：\")\n",
    "print(\"体积模量 (K_bnd) =\", K_upper / 1e9, \"GPa\")\n",
    "print(\"剪切模量 (mu_bnd) =\", mu_upper / 1e9, \"GPa\")\n",
    "\n",
    "print(\"\\nHashin-Shtrikman下界：\")\n",
    "print(\"体积模量 (K_bnd) =\", K_lower / 1e9, \"GPa\")\n",
    "print(\"剪切模量 (mu_bnd) =\", mu_lower / 1e9, \"GPa\")\n",
    "\n",
    "Vp_up = math.sqrt((K_upper/1e9 + 4/3*mu_upper/1e9) / rho)\n",
    "print(\"Vp_up: \", Vp_up)\n",
    "\n",
    "Vs_up = math.sqrt(mu_upper/1e9 / rho)\n",
    "print(\"Vs_up: \", Vs_up)\n",
    "\n",
    "Vp_down = math.sqrt((K_lower/1e9 + 4/3*mu_lower/1e9) / rho)\n",
    "print(\"Vp_down: \", Vp_down)\n",
    "\n",
    "Vs_down = math.sqrt(mu_lower/1e9 / rho)\n",
    "print(\"Vs_up: \", Vs_down)\n"
   ]
  },
  {
   "cell_type": "code",
   "execution_count": null,
   "metadata": {},
   "outputs": [],
   "source": []
  }
 ],
 "metadata": {
  "kernelspec": {
   "display_name": "base",
   "language": "python",
   "name": "python3"
  },
  "language_info": {
   "codemirror_mode": {
    "name": "ipython",
    "version": 3
   },
   "file_extension": ".py",
   "mimetype": "text/x-python",
   "name": "python",
   "nbconvert_exporter": "python",
   "pygments_lexer": "ipython3",
   "version": "3.10.12"
  }
 },
 "nbformat": 4,
 "nbformat_minor": 2
}
