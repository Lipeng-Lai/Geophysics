{
 "cells": [
  {
   "cell_type": "code",
   "execution_count": 4,
   "metadata": {},
   "outputs": [
    {
     "name": "stdout",
     "output_type": "stream",
     "text": [
      "二阶偏导数 V_zz = G*sigma*Integral((-3*z + 3*zs)*(-z + zs)/(x**2 - 2*x*xs + xs**2 + y**2 - 2*y*ys + ys**2 + z**2 - 2*z*zs + zs**2)**(5/2) - 1/(x**2 - 2*x*xs + xs**2 + y**2 - 2*y*ys + ys**2 + z**2 - 2*z*zs + zs**2)**(3/2), (xs, -oo, oo), (ys, -oo, oo), (zs, -oo, oo))\n"
     ]
    }
   ],
   "source": [
    "from sympy import symbols, diff, integrate, sqrt\n",
    "\n",
    "# 定义变量\n",
    "x, y, z, xs, ys, zs = symbols('x y z xs ys zs')\n",
    "G = symbols('G')\n",
    "sigma = symbols('sigma')\n",
    "\n",
    "# 定义函数\n",
    "expression = sigma / sqrt((xs - x)**2 + (ys - y)**2 + (zs - z)**2)\n",
    "\n",
    "# 计算二阶偏导数\n",
    "V = G * integrate(expression, (xs, -float('inf'), float('inf')), (ys, -float('inf'), float('inf')), (zs, -float('inf'), float('inf')))\n",
    "V_z = diff(V, z)\n",
    "V_zz = diff(V_z, z)\n",
    "\n",
    "# 打印二阶偏导数\n",
    "print(\"二阶偏导数 V_zz =\", V_zz)\n"
   ]
  },
  {
   "cell_type": "code",
   "execution_count": 2,
   "metadata": {},
   "outputs": [
    {
     "name": "stdout",
     "output_type": "stream",
     "text": [
      "18217.607813901806\n",
      "9485.200762610031\n"
     ]
    }
   ],
   "source": [
    "import math\n",
    "a = 2.42 * 6371 * math.pow((5.51 / 3.34), 1/3)\n",
    "print(a)\n",
    "b = a = 1.26 * 6371 * math.pow((5.51 / 3.34), 1/3)\n",
    "print(b)"
   ]
  },
  {
   "cell_type": "code",
   "execution_count": 4,
   "metadata": {},
   "outputs": [
    {
     "name": "stdout",
     "output_type": "stream",
     "text": [
      "46.51823634464372\n",
      "0.39073112848927377\n"
     ]
    }
   ],
   "source": [
    "c = 2 * math.sqrt(3) * math.pi / 24 * 262.32 * math.sin(math.radians(23)) + 262.32 / 6371\n",
    "print(c)\n",
    "print(math.sin(math.radians(23)))"
   ]
  },
  {
   "cell_type": "code",
   "execution_count": 5,
   "metadata": {},
   "outputs": [
    {
     "name": "stdout",
     "output_type": "stream",
     "text": [
      "0.21180015384646914\n"
     ]
    }
   ],
   "source": [
    "d = math.pi / 12 * math.cos(math.radians(36))\n",
    "print(d)"
   ]
  },
  {
   "cell_type": "code",
   "execution_count": 8,
   "metadata": {},
   "outputs": [
    {
     "name": "stdout",
     "output_type": "stream",
     "text": [
      "14.003831517815097\n"
     ]
    }
   ],
   "source": [
    "e = 2 * 0.21 * 33.33 * math.sin(math.radians(90)) + 33.33 / 6371\n",
    "print(e)"
   ]
  },
  {
   "cell_type": "code",
   "execution_count": 11,
   "metadata": {},
   "outputs": [
    {
     "name": "stdout",
     "output_type": "stream",
     "text": [
      "979373.9710556862\n"
     ]
    }
   ],
   "source": [
    "f = 978030*(1 + 0.005302 * math.sin(math.radians(30.67))**2 - 0.000007 * math.sin(math.radians(2 * 30.67))**2)\n",
    "print(f)"
   ]
  },
  {
   "cell_type": "code",
   "execution_count": 15,
   "metadata": {},
   "outputs": [
    {
     "name": "stdout",
     "output_type": "stream",
     "text": [
      "0.1037103012*sin(varphi)*cos(varphi) - 0.0002738484*sin(2*varphi)*cos(2*varphi)\n",
      "赫尔默特正常重力公式对纬度 varphi = 30.67° 的导数为：\n",
      "4538.66712455118\n"
     ]
    }
   ],
   "source": [
    "import sympy as sp\n",
    "import math\n",
    "\n",
    "# 定义符号变量和角度值\n",
    "varphi = sp.symbols('varphi')\n",
    "phi_deg = 30.67  # 单位：度\n",
    "\n",
    "# 角度转换为弧度\n",
    "phi_rad = math.radians(phi_deg)\n",
    "\n",
    "# 定义赫尔默特正常重力公式\n",
    "gamma = 9.78030 * (1 + 0.005302 * sp.sin(varphi)**2 - 0.000007 * sp.sin(2 * varphi)**2)\n",
    "\n",
    "# 对 gamma 关于 varphi 求导\n",
    "gamma_derivative = sp.diff(gamma, varphi)\n",
    "print(gamma_derivative)\n",
    "# 代入 phi_rad 计算导数值\n",
    "result = gamma_derivative.evalf(subs={varphi: phi_rad})\n",
    "\n",
    "# 打印结果\n",
    "print(\"赫尔默特正常重力公式对纬度 varphi = 30.67° 的导数为：\")\n",
    "print(result * 10**5)\n"
   ]
  },
  {
   "cell_type": "code",
   "execution_count": 18,
   "metadata": {},
   "outputs": [
    {
     "name": "stdout",
     "output_type": "stream",
     "text": [
      "7.203600000000001\n"
     ]
    }
   ],
   "source": [
    "AA = 2 * 6.67 * math.pow(10, -11) * 1.62 * math.pow(10, 4) * math.pow(10, 5) / 0.03\n",
    "print(AA)"
   ]
  },
  {
   "cell_type": "code",
   "execution_count": null,
   "metadata": {},
   "outputs": [],
   "source": []
  }
 ],
 "metadata": {
  "kernelspec": {
   "display_name": "base",
   "language": "python",
   "name": "python3"
  },
  "language_info": {
   "codemirror_mode": {
    "name": "ipython",
    "version": 3
   },
   "file_extension": ".py",
   "mimetype": "text/x-python",
   "name": "python",
   "nbconvert_exporter": "python",
   "pygments_lexer": "ipython3",
   "version": "3.10.12"
  }
 },
 "nbformat": 4,
 "nbformat_minor": 2
}
