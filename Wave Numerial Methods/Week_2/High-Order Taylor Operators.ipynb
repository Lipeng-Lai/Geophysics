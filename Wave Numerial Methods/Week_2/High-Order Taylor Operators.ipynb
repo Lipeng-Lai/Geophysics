{
 "cells": [
  {
   "cell_type": "markdown",
   "metadata": {},
   "source": [
    "### 泰勒展开\n",
    "\n",
    "对于$f(x + dx)$进行泰勒展开为:\n",
    "\n",
    "$$\n",
    "f(x + dx) = \\sum_{n=0}^{\\infty} \\frac{f^{(n)} (x)}{n!} dx^n \n",
    "$$\n",
    "\n",
    "故因此有:\n",
    "\n",
    "$$\n",
    "af(x+dx) = a[f(x) + f'(x)dx + \\frac{1}{2!}f''(x)dx^2] \\\\\n",
    "bf(x) = b[f(x)] \\\\\n",
    "cf(x-dx) = c[f(x) - f'(x)dx + \\frac{1}{2!}f''(x)dx^2]\n",
    "$$\n",
    "\n",
    "将上式子左右分别相加有:\n",
    "$$\n",
    "af(x+dx) + bf(x) + cf(x-dx) = (a+b+c)f(x) + (a-c)f'(x)dx + (a+c)\\frac{1}{2!}f''(x)dx^2\n",
    "$$\n",
    "\n",
    "1. 若令 $a + b + c = 0$，则式子右边第一项为零，消去\n",
    "2. 若令 $a + c = 0$，则式子右边第三项为零，消去\n",
    "3. 若令 $a - c = \\frac{1}{dx}$，此时则有:\n",
    "\n",
    "$$\n",
    "af(x+dx) + bf(x) + cf(x-dx) = f'(x)\n",
    "$$\n",
    "\n",
    "至此，构建了上述等式，要求出f'(x)，只需求出系数$a, b, c$即可，由上述条件则可构建矩形求解系数$a, b, c$\n",
    "\n",
    "$$\n",
    "\\begin{cases}\n",
    "a + b + c = 0 \\\\\n",
    "a - c = \\frac{1}{dx} \\\\\n",
    "a + c = 0\n",
    "\\end{cases}\n",
    "$$\n",
    "\n",
    "解得：\n",
    "$$\n",
    "a = \\frac{1}{2dx}, b = 0, c = -\\frac{1}{2dx}\n",
    "$$\n",
    "\n",
    "代入上述等式，即可推导出中心有限差分格式:\n",
    "$$\n",
    "f'(x) = \\frac{f(x+dx) - f(x-dx)}{2dx}\n",
    "$$\n",
    "\n",
    "以此类推，即可推出有限差分二阶三阶...导数原始定义"
   ]
  },
  {
   "cell_type": "code",
   "execution_count": 2,
   "metadata": {},
   "outputs": [],
   "source": [
    "# Import libaries\n",
    "import math\n",
    "import numpy as np\n",
    "import matplotlib.pyplot as plt\n",
    "\n",
    "# Define function to calculate Taylor operators\n",
    "def central_difference_coefficients(nop, n):\n",
    "    \"\"\"\n",
    "    Calculate the central finite difference stencil for an arbitrary number\n",
    "    of points and an arbitrary order derivative.\n",
    "    \n",
    "    :param nop: The number of points for the stencil. Must be\n",
    "        an odd number.\n",
    "    :param n: The derivative order. Must be a positive number.\n",
    "    \"\"\"\n",
    "    m = np.zeros((nop, nop))\n",
    "    for i in range(nop):\n",
    "        for j in range(nop):\n",
    "            dx = j - nop // 2\n",
    "            m[i, j] = dx ** i\n",
    "            print(m[i][j], end=\" \")\n",
    "        print()\n",
    "    \n",
    "    s = np.zeros(nop)\n",
    "    s[n] = math.factorial(n)\n",
    "    \n",
    "    # The following statement return oper = inv(m) s\n",
    "    oper = np.linalg.solve(m, s)\n",
    "    # Calculate operator\n",
    "    return oper"
   ]
  },
  {
   "cell_type": "markdown",
   "metadata": {},
   "source": [
    "###\n",
    "\n",
    "这个函数的形式为: 以 $3$点差分举例 \\\\\n",
    "3(0, 1, 2)点差分的中心点为'1'(3 // 2) \\\\\n",
    "因此第一步是将每一列转化为当前点距离中心点的距离\n",
    "\n",
    "例如:   \n",
    "$$\n",
    "dx[i - 1] \\, \\, \\, dx[i] \\, \\, \\, dx[i+1]\n",
    "$$\n",
    "\n",
    "其中$dx[i]$为中心点，第一步就是将其转为索引 $i - 1, \\, \\, i, \\, \\, i + 1$\n",
    "\n",
    "第二步则是给索引表上为几次方, 比如 $dx[i]^0, dx[i]^1, dx[i]^2 ...$\n",
    "\n",
    "$$\n",
    "m[i, j] = \\begin{bmatrix}\n",
    "dx[i - 1]^0 & dx[i]^0 & dx[i + 1]^0 \\\\\n",
    "dx[i - 1]^1 & dx[i]^1 & dx[i + 1]^1 \\\\\n",
    "dx[i - 1]^2 & dx[i]^2 & dx[i + 1]^2 \n",
    "\\end{bmatrix}\n",
    "$$"
   ]
  },
  {
   "cell_type": "code",
   "execution_count": 4,
   "metadata": {},
   "outputs": [
    {
     "name": "stdout",
     "output_type": "stream",
     "text": [
      "1.0 1.0 1.0 \n",
      "-1.0 0.0 1.0 \n",
      "1.0 0.0 1.0 \n",
      "[-0.5  0.   0.5]\n"
     ]
    }
   ],
   "source": [
    "# Calculate and plot Taylor operator\n",
    "\n",
    "# Give length of operator (odd)\n",
    "nop = 3\n",
    "# Give order of derivative (0 - interpolation, 1 - first derivative, 2 - second derivative)\n",
    "n = 1\n",
    "\n",
    "# Get operator from routine 'central_difference_coefficients'\n",
    "oper = central_difference_coefficients(nop, n)\n",
    "print(oper)"
   ]
  },
  {
   "cell_type": "markdown",
   "metadata": {},
   "source": [
    "### 求解f'(x)\n",
    "\n",
    "与上推导同理，已知dx^{...}, n!{...}, 求解$Ax = b$，即可得到系数$a, b, c...$，至此再推导出$f'(x)$"
   ]
  },
  {
   "cell_type": "code",
   "execution_count": 5,
   "metadata": {},
   "outputs": [
    {
     "data": {
      "image/png": "[encoded data removed]",
      "text/plain": [
       "<Figure size 1000x400 with 1 Axes>"
      ]
     },
     "metadata": {},
     "output_type": "display_data"
    }
   ],
   "source": [
    "# Plot operator\n",
    "x = np.linspace(-(nop - 1) / 2, (nop - 1) / 2, nop)\n",
    "\n",
    "# Simple plot with operator\n",
    "plt.figure(figsize=(10, 4))\n",
    "plt.plot(x, oper,lw=2,color='blue')\n",
    "plt.plot(x, oper,lw=2,marker='o',color='blue')\n",
    "plt.plot(0, 0,lw=2,marker='o',color='red')\n",
    "#plt.plot (x, nder5-ader, label=\"Difference\", lw=2, ls=\":\")\n",
    "plt.title(\"Taylor Operator with nop =  %i \" % nop )\n",
    "plt.xlabel('x')\n",
    "plt.ylabel('Operator')\n",
    "plt.grid()\n",
    "plt.show()"
   ]
  },
  {
   "cell_type": "code",
   "execution_count": null,
   "metadata": {},
   "outputs": [],
   "source": []
  }
 ],
 "metadata": {
  "kernelspec": {
   "display_name": "base",
   "language": "python",
   "name": "python3"
  },
  "language_info": {
   "codemirror_mode": {
    "name": "ipython",
    "version": 3
   },
   "file_extension": ".py",
   "mimetype": "text/x-python",
   "name": "python",
   "nbconvert_exporter": "python",
   "pygments_lexer": "ipython3",
   "version": "3.10.12"
  }
 },
 "nbformat": 4,
 "nbformat_minor": 2
}
